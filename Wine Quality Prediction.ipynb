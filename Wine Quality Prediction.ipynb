{
 "cells": [
  {
   "cell_type": "code",
   "execution_count": 2,
   "metadata": {},
   "outputs": [],
   "source": [
    "library(dplyr)\n",
    "library(tidyr)\n",
    "library(ggplot2)"
   ]
  },
  {
   "cell_type": "markdown",
   "metadata": {},
   "source": [
    "# Wine Quality Prediction\n"
   ]
  },
  {
   "cell_type": "code",
   "execution_count": 2,
   "metadata": {},
   "outputs": [],
   "source": [
    "wine <- read.csv(\"C:/Users/Lenovo/Downloads/Wine_quality.csv\")"
   ]
  },
  {
   "cell_type": "code",
   "execution_count": 3,
   "metadata": {},
   "outputs": [
    {
     "data": {
      "text/html": [
       "TRUE"
      ],
      "text/latex": [
       "TRUE"
      ],
      "text/markdown": [
       "TRUE"
      ],
      "text/plain": [
       "[1] TRUE"
      ]
     },
     "metadata": {},
     "output_type": "display_data"
    }
   ],
   "source": [
    "any(is.na(wine))"
   ]
  },
  {
   "cell_type": "code",
   "execution_count": 4,
   "metadata": {},
   "outputs": [],
   "source": [
    "wine <- wine %>% drop_na()"
   ]
  },
  {
   "cell_type": "code",
   "execution_count": 5,
   "metadata": {},
   "outputs": [
    {
     "data": {
      "text/html": [
       "6463"
      ],
      "text/latex": [
       "6463"
      ],
      "text/markdown": [
       "6463"
      ],
      "text/plain": [
       "[1] 6463"
      ]
     },
     "metadata": {},
     "output_type": "display_data"
    }
   ],
   "source": [
    "nrow(wine)"
   ]
  },
  {
   "cell_type": "code",
   "execution_count": 6,
   "metadata": {},
   "outputs": [
    {
     "data": {
      "text/html": [
       "<table>\n",
       "<caption>A data.frame: 6 × 13</caption>\n",
       "<thead>\n",
       "\t<tr><th></th><th scope=col>type</th><th scope=col>fixed.acidity</th><th scope=col>volatile.acidity</th><th scope=col>citric.acid</th><th scope=col>residual.sugar</th><th scope=col>chlorides</th><th scope=col>free.sulfur.dioxide</th><th scope=col>total.sulfur.dioxide</th><th scope=col>density</th><th scope=col>pH</th><th scope=col>sulphates</th><th scope=col>alcohol</th><th scope=col>quality</th></tr>\n",
       "\t<tr><th></th><th scope=col>&lt;fct&gt;</th><th scope=col>&lt;dbl&gt;</th><th scope=col>&lt;dbl&gt;</th><th scope=col>&lt;dbl&gt;</th><th scope=col>&lt;dbl&gt;</th><th scope=col>&lt;dbl&gt;</th><th scope=col>&lt;dbl&gt;</th><th scope=col>&lt;dbl&gt;</th><th scope=col>&lt;dbl&gt;</th><th scope=col>&lt;dbl&gt;</th><th scope=col>&lt;dbl&gt;</th><th scope=col>&lt;dbl&gt;</th><th scope=col>&lt;int&gt;</th></tr>\n",
       "</thead>\n",
       "<tbody>\n",
       "\t<tr><th scope=row>1</th><td>white</td><td>7.0</td><td>0.27</td><td>0.36</td><td>20.7</td><td>0.045</td><td>45</td><td>170</td><td>1.0010</td><td>3.00</td><td>0.45</td><td> 8.8</td><td>6</td></tr>\n",
       "\t<tr><th scope=row>2</th><td>white</td><td>6.3</td><td>0.30</td><td>0.34</td><td> 1.6</td><td>0.049</td><td>14</td><td>132</td><td>0.9940</td><td>3.30</td><td>0.49</td><td> 9.5</td><td>6</td></tr>\n",
       "\t<tr><th scope=row>3</th><td>white</td><td>8.1</td><td>0.28</td><td>0.40</td><td> 6.9</td><td>0.050</td><td>30</td><td> 97</td><td>0.9951</td><td>3.26</td><td>0.44</td><td>10.1</td><td>6</td></tr>\n",
       "\t<tr><th scope=row>4</th><td>white</td><td>7.2</td><td>0.23</td><td>0.32</td><td> 8.5</td><td>0.058</td><td>47</td><td>186</td><td>0.9956</td><td>3.19</td><td>0.40</td><td> 9.9</td><td>6</td></tr>\n",
       "\t<tr><th scope=row>5</th><td>white</td><td>7.2</td><td>0.23</td><td>0.32</td><td> 8.5</td><td>0.058</td><td>47</td><td>186</td><td>0.9956</td><td>3.19</td><td>0.40</td><td> 9.9</td><td>6</td></tr>\n",
       "\t<tr><th scope=row>6</th><td>white</td><td>8.1</td><td>0.28</td><td>0.40</td><td> 6.9</td><td>0.050</td><td>30</td><td> 97</td><td>0.9951</td><td>3.26</td><td>0.44</td><td>10.1</td><td>6</td></tr>\n",
       "</tbody>\n",
       "</table>\n"
      ],
      "text/latex": [
       "A data.frame: 6 × 13\n",
       "\\begin{tabular}{r|lllllllllllll}\n",
       "  & type & fixed.acidity & volatile.acidity & citric.acid & residual.sugar & chlorides & free.sulfur.dioxide & total.sulfur.dioxide & density & pH & sulphates & alcohol & quality\\\\\n",
       "  & <fct> & <dbl> & <dbl> & <dbl> & <dbl> & <dbl> & <dbl> & <dbl> & <dbl> & <dbl> & <dbl> & <dbl> & <int>\\\\\n",
       "\\hline\n",
       "\t1 & white & 7.0 & 0.27 & 0.36 & 20.7 & 0.045 & 45 & 170 & 1.0010 & 3.00 & 0.45 &  8.8 & 6\\\\\n",
       "\t2 & white & 6.3 & 0.30 & 0.34 &  1.6 & 0.049 & 14 & 132 & 0.9940 & 3.30 & 0.49 &  9.5 & 6\\\\\n",
       "\t3 & white & 8.1 & 0.28 & 0.40 &  6.9 & 0.050 & 30 &  97 & 0.9951 & 3.26 & 0.44 & 10.1 & 6\\\\\n",
       "\t4 & white & 7.2 & 0.23 & 0.32 &  8.5 & 0.058 & 47 & 186 & 0.9956 & 3.19 & 0.40 &  9.9 & 6\\\\\n",
       "\t5 & white & 7.2 & 0.23 & 0.32 &  8.5 & 0.058 & 47 & 186 & 0.9956 & 3.19 & 0.40 &  9.9 & 6\\\\\n",
       "\t6 & white & 8.1 & 0.28 & 0.40 &  6.9 & 0.050 & 30 &  97 & 0.9951 & 3.26 & 0.44 & 10.1 & 6\\\\\n",
       "\\end{tabular}\n"
      ],
      "text/markdown": [
       "\n",
       "A data.frame: 6 × 13\n",
       "\n",
       "| <!--/--> | type &lt;fct&gt; | fixed.acidity &lt;dbl&gt; | volatile.acidity &lt;dbl&gt; | citric.acid &lt;dbl&gt; | residual.sugar &lt;dbl&gt; | chlorides &lt;dbl&gt; | free.sulfur.dioxide &lt;dbl&gt; | total.sulfur.dioxide &lt;dbl&gt; | density &lt;dbl&gt; | pH &lt;dbl&gt; | sulphates &lt;dbl&gt; | alcohol &lt;dbl&gt; | quality &lt;int&gt; |\n",
       "|---|---|---|---|---|---|---|---|---|---|---|---|---|---|\n",
       "| 1 | white | 7.0 | 0.27 | 0.36 | 20.7 | 0.045 | 45 | 170 | 1.0010 | 3.00 | 0.45 |  8.8 | 6 |\n",
       "| 2 | white | 6.3 | 0.30 | 0.34 |  1.6 | 0.049 | 14 | 132 | 0.9940 | 3.30 | 0.49 |  9.5 | 6 |\n",
       "| 3 | white | 8.1 | 0.28 | 0.40 |  6.9 | 0.050 | 30 |  97 | 0.9951 | 3.26 | 0.44 | 10.1 | 6 |\n",
       "| 4 | white | 7.2 | 0.23 | 0.32 |  8.5 | 0.058 | 47 | 186 | 0.9956 | 3.19 | 0.40 |  9.9 | 6 |\n",
       "| 5 | white | 7.2 | 0.23 | 0.32 |  8.5 | 0.058 | 47 | 186 | 0.9956 | 3.19 | 0.40 |  9.9 | 6 |\n",
       "| 6 | white | 8.1 | 0.28 | 0.40 |  6.9 | 0.050 | 30 |  97 | 0.9951 | 3.26 | 0.44 | 10.1 | 6 |\n",
       "\n"
      ],
      "text/plain": [
       "  type  fixed.acidity volatile.acidity citric.acid residual.sugar chlorides\n",
       "1 white 7.0           0.27             0.36        20.7           0.045    \n",
       "2 white 6.3           0.30             0.34         1.6           0.049    \n",
       "3 white 8.1           0.28             0.40         6.9           0.050    \n",
       "4 white 7.2           0.23             0.32         8.5           0.058    \n",
       "5 white 7.2           0.23             0.32         8.5           0.058    \n",
       "6 white 8.1           0.28             0.40         6.9           0.050    \n",
       "  free.sulfur.dioxide total.sulfur.dioxide density pH   sulphates alcohol\n",
       "1 45                  170                  1.0010  3.00 0.45       8.8   \n",
       "2 14                  132                  0.9940  3.30 0.49       9.5   \n",
       "3 30                   97                  0.9951  3.26 0.44      10.1   \n",
       "4 47                  186                  0.9956  3.19 0.40       9.9   \n",
       "5 47                  186                  0.9956  3.19 0.40       9.9   \n",
       "6 30                   97                  0.9951  3.26 0.44      10.1   \n",
       "  quality\n",
       "1 6      \n",
       "2 6      \n",
       "3 6      \n",
       "4 6      \n",
       "5 6      \n",
       "6 6      "
      ]
     },
     "metadata": {},
     "output_type": "display_data"
    }
   ],
   "source": [
    "head(wine)"
   ]
  },
  {
   "cell_type": "code",
   "execution_count": 7,
   "metadata": {},
   "outputs": [
    {
     "data": {
      "image/png": "[encoded data removed]",
      "text/plain": [
       "plot without title"
      ]
     },
     "metadata": {
      "image/png": {
       "height": 420,
       "width": 420
      },
      "text/plain": {
       "height": 420,
       "width": 420
      }
     },
     "output_type": "display_data"
    }
   ],
   "source": [
    "barplot(table(wine$quality))"
   ]
  },
  {
   "cell_type": "code",
   "execution_count": 8,
   "metadata": {},
   "outputs": [
    {
     "data": {
      "text/plain": [
       "\n",
       "   3    4    5    6    7    8    9 \n",
       "  30  214 2128 2820 1074  192    5 "
      ]
     },
     "metadata": {},
     "output_type": "display_data"
    }
   ],
   "source": [
    "table(wine$quality)"
   ]
  },
  {
   "cell_type": "code",
   "execution_count": 9,
   "metadata": {},
   "outputs": [
    {
     "data": {
      "text/plain": [
       "\n",
       "   bad   good normal \n",
       "  2372   1271   2820 "
      ]
     },
     "metadata": {},
     "output_type": "display_data"
    }
   ],
   "source": [
    "wine$taste <- ifelse(wine$quality < 6,'bad','good')\n",
    "wine$taste[wine$quality == 6] <- 'normal'\n",
    "wine$taste <- as.factor(wine$taste)\n",
    "table(wine$taste)"
   ]
  },
  {
   "cell_type": "code",
   "execution_count": 55,
   "metadata": {},
   "outputs": [
    {
     "name": "stdout",
     "output_type": "stream",
     "text": [
      "'data.frame':\t6463 obs. of  14 variables:\n",
      " $ type                : Factor w/ 2 levels \"red\",\"white\": 2 2 2 2 2 2 2 2 2 2 ...\n",
      " $ fixed.acidity       : num  7 6.3 8.1 7.2 7.2 8.1 6.2 7 6.3 8.1 ...\n",
      " $ volatile.acidity    : num  0.27 0.3 0.28 0.23 0.23 0.28 0.32 0.27 0.3 0.22 ...\n",
      " $ citric.acid         : num  0.36 0.34 0.4 0.32 0.32 0.4 0.16 0.36 0.34 0.43 ...\n",
      " $ residual.sugar      : num  20.7 1.6 6.9 8.5 8.5 6.9 7 20.7 1.6 1.5 ...\n",
      " $ chlorides           : num  0.045 0.049 0.05 0.058 0.058 0.05 0.045 0.045 0.049 0.044 ...\n",
      " $ free.sulfur.dioxide : num  45 14 30 47 47 30 30 45 14 28 ...\n",
      " $ total.sulfur.dioxide: num  170 132 97 186 186 97 136 170 132 129 ...\n",
      " $ density             : num  1.001 0.994 0.995 0.996 0.996 ...\n",
      " $ pH                  : num  3 3.3 3.26 3.19 3.19 3.26 3.18 3 3.3 3.22 ...\n",
      " $ sulphates           : num  0.45 0.49 0.44 0.4 0.4 0.44 0.47 0.45 0.49 0.45 ...\n",
      " $ alcohol             : num  8.8 9.5 10.1 9.9 9.9 10.1 9.6 8.8 9.5 11 ...\n",
      " $ quality             : int  6 6 6 6 6 6 6 6 6 6 ...\n",
      " $ taste               : Factor w/ 3 levels \"bad\",\"good\",\"normal\": 3 3 3 3 3 3 3 3 3 3 ...\n"
     ]
    }
   ],
   "source": [
    "str(wine)"
   ]
  },
  {
   "cell_type": "code",
   "execution_count": 10,
   "metadata": {},
   "outputs": [
    {
     "data": {
      "image/png": "[encoded data removed]",
      "text/plain": [
       "plot without title"
      ]
     },
     "metadata": {
      "image/png": {
       "height": 420,
       "width": 420
      },
      "text/plain": {
       "height": 420,
       "width": 420
      }
     },
     "output_type": "display_data"
    }
   ],
   "source": [
    "barplot(table(wine$taste))"
   ]
  },
  {
   "cell_type": "code",
   "execution_count": 11,
   "metadata": {},
   "outputs": [],
   "source": [
    "# set.seed is use for making output of ramdom number is same and output never change if we run this command again and again\n",
    "# (123) is a number that asaign to this process if i extract some number from this data set and i use set.seed(123) then output \n",
    "# will same\n",
    "\n",
    "set.seed(123)"
   ]
  },
  {
   "cell_type": "code",
   "execution_count": 12,
   "metadata": {},
   "outputs": [],
   "source": [
    "samp <- sample(nrow(wine), 0.6 * nrow(wine))"
   ]
  },
  {
   "cell_type": "code",
   "execution_count": 13,
   "metadata": {},
   "outputs": [],
   "source": [
    "train <- wine[samp, ]\n",
    "test <- wine[-samp, ]"
   ]
  },
  {
   "cell_type": "code",
   "execution_count": 14,
   "metadata": {},
   "outputs": [],
   "source": [
    "#install.packages(\"randomForest\")"
   ]
  },
  {
   "cell_type": "code",
   "execution_count": 15,
   "metadata": {},
   "outputs": [
    {
     "name": "stderr",
     "output_type": "stream",
     "text": [
      "Warning message:\n",
      "\"package 'randomForest' was built under R version 3.6.3\"\n",
      "randomForest 4.6-14\n",
      "\n",
      "Type rfNews() to see new features/changes/bug fixes.\n",
      "\n",
      "\n",
      "Attaching package: 'randomForest'\n",
      "\n",
      "\n",
      "The following object is masked from 'package:dplyr':\n",
      "\n",
      "    combine\n",
      "\n",
      "\n"
     ]
    }
   ],
   "source": [
    "library(randomForest)"
   ]
  },
  {
   "cell_type": "code",
   "execution_count": 16,
   "metadata": {},
   "outputs": [],
   "source": [
    "model <- randomForest(taste ~ . - quality, data = train)"
   ]
  },
  {
   "cell_type": "code",
   "execution_count": 17,
   "metadata": {},
   "outputs": [
    {
     "data": {
      "text/plain": [
       "\n",
       "Call:\n",
       " randomForest(formula = taste ~ . - quality, data = train) \n",
       "               Type of random forest: classification\n",
       "                     Number of trees: 500\n",
       "No. of variables tried at each split: 3\n",
       "\n",
       "        OOB estimate of  error rate: 30.33%\n",
       "Confusion matrix:\n",
       "        bad good normal class.error\n",
       "bad    1016   19    378   0.2809625\n",
       "good     25  435    296   0.4246032\n",
       "normal  324  134   1250   0.2681499"
      ]
     },
     "metadata": {},
     "output_type": "display_data"
    }
   ],
   "source": [
    "model"
   ]
  },
  {
   "cell_type": "code",
   "execution_count": 18,
   "metadata": {},
   "outputs": [],
   "source": [
    "pred <- predict(model, newdata = test)"
   ]
  },
  {
   "cell_type": "code",
   "execution_count": 19,
   "metadata": {},
   "outputs": [
    {
     "data": {
      "text/plain": [
       "        \n",
       "pred     bad good normal\n",
       "  bad    701   12    194\n",
       "  good     9  307     75\n",
       "  normal 249  196    843"
      ]
     },
     "metadata": {},
     "output_type": "display_data"
    }
   ],
   "source": [
    "table(pred, test$taste)"
   ]
  },
  {
   "cell_type": "code",
   "execution_count": 20,
   "metadata": {},
   "outputs": [
    {
     "data": {
      "text/html": [
       "0.716937354988399"
      ],
      "text/latex": [
       "0.716937354988399"
      ],
      "text/markdown": [
       "0.716937354988399"
      ],
      "text/plain": [
       "[1] 0.7169374"
      ]
     },
     "metadata": {},
     "output_type": "display_data"
    }
   ],
   "source": [
    "(702+307+845)/nrow(test)"
   ]
  },
  {
   "cell_type": "markdown",
   "metadata": {},
   "source": [
    "## Accuracy of the model is 71%"
   ]
  },
  {
   "cell_type": "markdown",
   "metadata": {},
   "source": [
    "<br><br>\n",
    "# Adult income \n",
    "\n",
    "<hr>"
   ]
  },
  {
   "cell_type": "code",
   "execution_count": 94,
   "metadata": {},
   "outputs": [
    {
     "data": {
      "text/html": [
       "<table>\n",
       "<caption>A data.frame: 6 × 15</caption>\n",
       "<thead>\n",
       "\t<tr><th></th><th scope=col>age</th><th scope=col>workclass</th><th scope=col>fnlwgt</th><th scope=col>education</th><th scope=col>educational_num</th><th scope=col>marital_status</th><th scope=col>occupation</th><th scope=col>relationship</th><th scope=col>race</th><th scope=col>gender</th><th scope=col>capital_gain</th><th scope=col>capital_loss</th><th scope=col>hourse_per_week</th><th scope=col>native_country</th><th scope=col>income</th></tr>\n",
       "\t<tr><th></th><th scope=col>&lt;int&gt;</th><th scope=col>&lt;fct&gt;</th><th scope=col>&lt;int&gt;</th><th scope=col>&lt;fct&gt;</th><th scope=col>&lt;int&gt;</th><th scope=col>&lt;fct&gt;</th><th scope=col>&lt;fct&gt;</th><th scope=col>&lt;fct&gt;</th><th scope=col>&lt;fct&gt;</th><th scope=col>&lt;fct&gt;</th><th scope=col>&lt;int&gt;</th><th scope=col>&lt;int&gt;</th><th scope=col>&lt;int&gt;</th><th scope=col>&lt;fct&gt;</th><th scope=col>&lt;fct&gt;</th></tr>\n",
       "</thead>\n",
       "<tbody>\n",
       "\t<tr><th scope=row>1</th><td>39</td><td><span style=white-space:pre-wrap> State-gov       </span></td><td> 77516</td><td> Bachelors</td><td>13</td><td><span style=white-space:pre-wrap> Never-married     </span></td><td><span style=white-space:pre-wrap> Adm-clerical     </span></td><td> Not-in-family</td><td> White</td><td><span style=white-space:pre-wrap> Male  </span></td><td>2174</td><td>0</td><td>40</td><td> United-States</td><td> &lt;=50K</td></tr>\n",
       "\t<tr><th scope=row>2</th><td>50</td><td> Self-emp-not-inc</td><td> 83311</td><td> Bachelors</td><td>13</td><td> Married-civ-spouse</td><td><span style=white-space:pre-wrap> Exec-managerial  </span></td><td><span style=white-space:pre-wrap> Husband      </span></td><td> White</td><td><span style=white-space:pre-wrap> Male  </span></td><td><span style=white-space:pre-wrap>   0</span></td><td>0</td><td>13</td><td> United-States</td><td> &lt;=50K</td></tr>\n",
       "\t<tr><th scope=row>3</th><td>38</td><td><span style=white-space:pre-wrap> Private         </span></td><td>215646</td><td><span style=white-space:pre-wrap> HS-grad  </span></td><td> 9</td><td><span style=white-space:pre-wrap> Divorced          </span></td><td> Handlers-cleaners</td><td> Not-in-family</td><td> White</td><td><span style=white-space:pre-wrap> Male  </span></td><td><span style=white-space:pre-wrap>   0</span></td><td>0</td><td>40</td><td> United-States</td><td> &lt;=50K</td></tr>\n",
       "\t<tr><th scope=row>4</th><td>53</td><td><span style=white-space:pre-wrap> Private         </span></td><td>234721</td><td><span style=white-space:pre-wrap> 11th     </span></td><td> 7</td><td> Married-civ-spouse</td><td> Handlers-cleaners</td><td><span style=white-space:pre-wrap> Husband      </span></td><td> Black</td><td><span style=white-space:pre-wrap> Male  </span></td><td><span style=white-space:pre-wrap>   0</span></td><td>0</td><td>40</td><td> United-States</td><td> &lt;=50K</td></tr>\n",
       "\t<tr><th scope=row>5</th><td>28</td><td><span style=white-space:pre-wrap> Private         </span></td><td>338409</td><td> Bachelors</td><td>13</td><td> Married-civ-spouse</td><td><span style=white-space:pre-wrap> Prof-specialty   </span></td><td><span style=white-space:pre-wrap> Wife         </span></td><td> Black</td><td> Female</td><td><span style=white-space:pre-wrap>   0</span></td><td>0</td><td>40</td><td><span style=white-space:pre-wrap> Cuba         </span></td><td> &lt;=50K</td></tr>\n",
       "\t<tr><th scope=row>6</th><td>37</td><td><span style=white-space:pre-wrap> Private         </span></td><td>284582</td><td><span style=white-space:pre-wrap> Masters  </span></td><td>14</td><td> Married-civ-spouse</td><td><span style=white-space:pre-wrap> Exec-managerial  </span></td><td><span style=white-space:pre-wrap> Wife         </span></td><td> White</td><td> Female</td><td><span style=white-space:pre-wrap>   0</span></td><td>0</td><td>40</td><td> United-States</td><td> &lt;=50K</td></tr>\n",
       "</tbody>\n",
       "</table>\n"
      ],
      "text/latex": [
       "A data.frame: 6 × 15\n",
       "\\begin{tabular}{r|lllllllllllllll}\n",
       "  & age & workclass & fnlwgt & education & educational\\_num & marital\\_status & occupation & relationship & race & gender & capital\\_gain & capital\\_loss & hourse\\_per\\_week & native\\_country & income\\\\\n",
       "  & <int> & <fct> & <int> & <fct> & <int> & <fct> & <fct> & <fct> & <fct> & <fct> & <int> & <int> & <int> & <fct> & <fct>\\\\\n",
       "\\hline\n",
       "\t1 & 39 &  State-gov        &  77516 &  Bachelors & 13 &  Never-married      &  Adm-clerical      &  Not-in-family &  White &  Male   & 2174 & 0 & 40 &  United-States &  <=50K\\\\\n",
       "\t2 & 50 &  Self-emp-not-inc &  83311 &  Bachelors & 13 &  Married-civ-spouse &  Exec-managerial   &  Husband       &  White &  Male   &    0 & 0 & 13 &  United-States &  <=50K\\\\\n",
       "\t3 & 38 &  Private          & 215646 &  HS-grad   &  9 &  Divorced           &  Handlers-cleaners &  Not-in-family &  White &  Male   &    0 & 0 & 40 &  United-States &  <=50K\\\\\n",
       "\t4 & 53 &  Private          & 234721 &  11th      &  7 &  Married-civ-spouse &  Handlers-cleaners &  Husband       &  Black &  Male   &    0 & 0 & 40 &  United-States &  <=50K\\\\\n",
       "\t5 & 28 &  Private          & 338409 &  Bachelors & 13 &  Married-civ-spouse &  Prof-specialty    &  Wife          &  Black &  Female &    0 & 0 & 40 &  Cuba          &  <=50K\\\\\n",
       "\t6 & 37 &  Private          & 284582 &  Masters   & 14 &  Married-civ-spouse &  Exec-managerial   &  Wife          &  White &  Female &    0 & 0 & 40 &  United-States &  <=50K\\\\\n",
       "\\end{tabular}\n"
      ],
      "text/markdown": [
       "\n",
       "A data.frame: 6 × 15\n",
       "\n",
       "| <!--/--> | age &lt;int&gt; | workclass &lt;fct&gt; | fnlwgt &lt;int&gt; | education &lt;fct&gt; | educational_num &lt;int&gt; | marital_status &lt;fct&gt; | occupation &lt;fct&gt; | relationship &lt;fct&gt; | race &lt;fct&gt; | gender &lt;fct&gt; | capital_gain &lt;int&gt; | capital_loss &lt;int&gt; | hourse_per_week &lt;int&gt; | native_country &lt;fct&gt; | income &lt;fct&gt; |\n",
       "|---|---|---|---|---|---|---|---|---|---|---|---|---|---|---|---|\n",
       "| 1 | 39 |  State-gov        |  77516 |  Bachelors | 13 |  Never-married      |  Adm-clerical      |  Not-in-family |  White |  Male   | 2174 | 0 | 40 |  United-States |  &lt;=50K |\n",
       "| 2 | 50 |  Self-emp-not-inc |  83311 |  Bachelors | 13 |  Married-civ-spouse |  Exec-managerial   |  Husband       |  White |  Male   |    0 | 0 | 13 |  United-States |  &lt;=50K |\n",
       "| 3 | 38 |  Private          | 215646 |  HS-grad   |  9 |  Divorced           |  Handlers-cleaners |  Not-in-family |  White |  Male   |    0 | 0 | 40 |  United-States |  &lt;=50K |\n",
       "| 4 | 53 |  Private          | 234721 |  11th      |  7 |  Married-civ-spouse |  Handlers-cleaners |  Husband       |  Black |  Male   |    0 | 0 | 40 |  United-States |  &lt;=50K |\n",
       "| 5 | 28 |  Private          | 338409 |  Bachelors | 13 |  Married-civ-spouse |  Prof-specialty    |  Wife          |  Black |  Female |    0 | 0 | 40 |  Cuba          |  &lt;=50K |\n",
       "| 6 | 37 |  Private          | 284582 |  Masters   | 14 |  Married-civ-spouse |  Exec-managerial   |  Wife          |  White |  Female |    0 | 0 | 40 |  United-States |  &lt;=50K |\n",
       "\n"
      ],
      "text/plain": [
       "  age workclass         fnlwgt education  educational_num marital_status     \n",
       "1 39   State-gov         77516  Bachelors 13               Never-married     \n",
       "2 50   Self-emp-not-inc  83311  Bachelors 13               Married-civ-spouse\n",
       "3 38   Private          215646  HS-grad    9               Divorced          \n",
       "4 53   Private          234721  11th       7               Married-civ-spouse\n",
       "5 28   Private          338409  Bachelors 13               Married-civ-spouse\n",
       "6 37   Private          284582  Masters   14               Married-civ-spouse\n",
       "  occupation         relationship   race   gender  capital_gain capital_loss\n",
       "1  Adm-clerical       Not-in-family  White  Male   2174         0           \n",
       "2  Exec-managerial    Husband        White  Male      0         0           \n",
       "3  Handlers-cleaners  Not-in-family  White  Male      0         0           \n",
       "4  Handlers-cleaners  Husband        Black  Male      0         0           \n",
       "5  Prof-specialty     Wife           Black  Female    0         0           \n",
       "6  Exec-managerial    Wife           White  Female    0         0           \n",
       "  hourse_per_week native_country income\n",
       "1 40               United-States  <=50K\n",
       "2 13               United-States  <=50K\n",
       "3 40               United-States  <=50K\n",
       "4 40               United-States  <=50K\n",
       "5 40               Cuba           <=50K\n",
       "6 40               United-States  <=50K"
      ]
     },
     "metadata": {},
     "output_type": "display_data"
    }
   ],
   "source": [
    "adult <- read.csv(\"C:/Users/Lenovo/Downloads/adult-training.csv\")\n",
    "head(adult)"
   ]
  },
  {
   "cell_type": "code",
   "execution_count": 95,
   "metadata": {},
   "outputs": [
    {
     "data": {
      "text/html": [
       "FALSE"
      ],
      "text/latex": [
       "FALSE"
      ],
      "text/markdown": [
       "FALSE"
      ],
      "text/plain": [
       "[1] FALSE"
      ]
     },
     "metadata": {},
     "output_type": "display_data"
    }
   ],
   "source": [
    "any(is.na(adult))"
   ]
  },
  {
   "cell_type": "code",
   "execution_count": 96,
   "metadata": {},
   "outputs": [
    {
     "name": "stdout",
     "output_type": "stream",
     "text": [
      "'data.frame':\t32561 obs. of  15 variables:\n",
      " $ age            : int  39 50 38 53 28 37 49 52 31 42 ...\n",
      " $ workclass      : Factor w/ 9 levels \" ?\",\" Federal-gov\",..: 8 7 5 5 5 5 5 7 5 5 ...\n",
      " $ fnlwgt         : int  77516 83311 215646 234721 338409 284582 160187 209642 45781 159449 ...\n",
      " $ education      : Factor w/ 16 levels \" 10th\",\" 11th\",..: 10 10 12 2 10 13 7 12 13 10 ...\n",
      " $ educational_num: int  13 13 9 7 13 14 5 9 14 13 ...\n",
      " $ marital_status : Factor w/ 7 levels \" Divorced\",\" Married-AF-spouse\",..: 5 3 1 3 3 3 4 3 5 3 ...\n",
      " $ occupation     : Factor w/ 15 levels \" ?\",\" Adm-clerical\",..: 2 5 7 7 11 5 9 5 11 5 ...\n",
      " $ relationship   : Factor w/ 6 levels \" Husband\",\" Not-in-family\",..: 2 1 2 1 6 6 2 1 2 1 ...\n",
      " $ race           : Factor w/ 5 levels \" Amer-Indian-Eskimo\",..: 5 5 5 3 3 5 3 5 5 5 ...\n",
      " $ gender         : Factor w/ 2 levels \" Female\",\" Male\": 2 2 2 2 1 1 1 2 1 2 ...\n",
      " $ capital_gain   : int  2174 0 0 0 0 0 0 0 14084 5178 ...\n",
      " $ capital_loss   : int  0 0 0 0 0 0 0 0 0 0 ...\n",
      " $ hourse_per_week: int  40 13 40 40 40 40 16 45 50 40 ...\n",
      " $ native_country : Factor w/ 42 levels \" ?\",\" Cambodia\",..: 40 40 40 40 6 40 24 40 40 40 ...\n",
      " $ income         : Factor w/ 2 levels \" <=50K\",\" >50K\": 1 1 1 1 1 1 1 2 2 2 ...\n"
     ]
    }
   ],
   "source": [
    "str(adult)"
   ]
  },
  {
   "cell_type": "code",
   "execution_count": 97,
   "metadata": {},
   "outputs": [],
   "source": [
    "adult$workclass <- as.character(adult$workclass)"
   ]
  },
  {
   "cell_type": "code",
   "execution_count": 98,
   "metadata": {},
   "outputs": [],
   "source": [
    "str(adult)"
   ]
  },
  {
   "cell_type": "code",
   "execution_count": 99,
   "metadata": {},
   "outputs": [
    {
     "data": {
      "text/plain": [
       "\n",
       "                ?       Federal-gov         Local-gov      Never-worked \n",
       "             1836               960              2093                 7 \n",
       "          Private      Self-emp-inc  Self-emp-not-inc         State-gov \n",
       "            22696              1116              2541              1298 \n",
       "      Without-pay \n",
       "               14 "
      ]
     },
     "metadata": {},
     "output_type": "display_data"
    }
   ],
   "source": [
    "table(adult$workclass)"
   ]
  },
  {
   "cell_type": "code",
   "execution_count": 100,
   "metadata": {},
   "outputs": [
    {
     "name": "stderr",
     "output_type": "stream",
     "text": [
      "Warning message in `[<-.factor`(`*tmp*`, adult$workclass == \"Without-pay\", value = \"Unemployed\"):\n",
      "\"invalid factor level, NA generated\"\n"
     ]
    }
   ],
   "source": [
    "adult$workclass[adult$workclass == 'Without-pay'] <- 'Unemployed'\n"
   ]
  },
  {
   "cell_type": "code",
   "execution_count": 101,
   "metadata": {},
   "outputs": [
    {
     "data": {
      "text/plain": [
       "\n",
       "                ?       Federal-gov         Local-gov      Never-worked \n",
       "             1836               960              2093                 7 \n",
       "          Private      Self-emp-inc  Self-emp-not-inc         State-gov \n",
       "            22696              1116              2541              1298 \n",
       "      Without-pay \n",
       "               14 "
      ]
     },
     "metadata": {},
     "output_type": "display_data"
    }
   ],
   "source": [
    "table(adult$workclass)"
   ]
  },
  {
   "cell_type": "code",
   "execution_count": 66,
   "metadata": {},
   "outputs": [
    {
     "data": {
      "text/plain": [
       "\n",
       "              Divorced      Married-AF-spouse     Married-civ-spouse \n",
       "                  4443                     23                  14976 \n",
       " Married-spouse-absent          Never-married              Separated \n",
       "                   418                  10683                   1025 \n",
       "               Widowed \n",
       "                   993 "
      ]
     },
     "metadata": {},
     "output_type": "display_data"
    }
   ],
   "source": [
    "table(adult$marital_status)"
   ]
  },
  {
   "cell_type": "code",
   "execution_count": 67,
   "metadata": {},
   "outputs": [
    {
     "data": {
      "text/plain": [
       "\n",
       "           Divorced   Married-AF-spouse  Married-civ-spouse       Never-married \n",
       "               4443                  23               14976               10683 \n",
       "          Separated             Widowed             Married \n",
       "               1025                 993                 418 "
      ]
     },
     "metadata": {},
     "output_type": "display_data"
    }
   ],
   "source": [
    "adult$marital_status <- as.character(adult$marital_status)\n",
    "\n",
    "adult$marital_status[adult$marital_status == \"Married-AF-spouse\" | adult$marital_status == \"Married-civ-spouse\" |\n",
    "                    adult$marital_status == \" Married-spouse-absent\"] <- \"Married\"\n",
    "adult$marital_status[adult$marital_status == \"Divorced\" | adult$marital_status == \"Widowed\" |\n",
    "                    adult$marital_status == \"Separated\"] <- \"Not married\"\n",
    "\n",
    "table(adult$marital_status)"
   ]
  },
  {
   "cell_type": "markdown",
   "metadata": {},
   "source": [
    "## Model is incompleted\n",
    "\n",
    "<hr>"
   ]
  },
  {
   "cell_type": "markdown",
   "metadata": {},
   "source": [
    "<br><br>\n",
    "\n",
    "# Breast Cancer dataset "
   ]
  },
  {
   "cell_type": "code",
   "execution_count": 32,
   "metadata": {},
   "outputs": [],
   "source": [
    "#this data not is in csv format this is in text format but i change it in csv format\n",
    "\n",
    "cancerdf <- read.csv(\"C:/Users/Lenovo/Downloads/breast-cancer-wisconsin.data\",stringsAsFactors = FALSE)"
   ]
  },
  {
   "cell_type": "code",
   "execution_count": 33,
   "metadata": {},
   "outputs": [
    {
     "name": "stdout",
     "output_type": "stream",
     "text": [
      "'data.frame':\t698 obs. of  11 variables:\n",
      " $ X1000025: int  1002945 1015425 1016277 1017023 1017122 1018099 1018561 1033078 1033078 1035283 ...\n",
      " $ X5      : int  5 3 6 4 8 1 2 2 4 1 ...\n",
      " $ X1      : int  4 1 8 1 10 1 1 1 2 1 ...\n",
      " $ X1.1    : int  4 1 8 1 10 1 2 1 1 1 ...\n",
      " $ X1.2    : int  5 1 1 3 8 1 1 1 1 1 ...\n",
      " $ X2      : int  7 2 3 2 7 2 2 2 2 1 ...\n",
      " $ X1.3    : chr  \"10\" \"2\" \"4\" \"1\" ...\n",
      " $ X3      : int  3 3 3 3 9 3 3 1 2 3 ...\n",
      " $ X1.4    : int  2 1 7 1 7 1 1 1 1 1 ...\n",
      " $ X1.5    : int  1 1 1 1 1 1 1 5 1 1 ...\n",
      " $ X2.1    : int  2 2 2 2 4 2 2 2 2 2 ...\n"
     ]
    }
   ],
   "source": [
    "str(cancerdf)"
   ]
  },
  {
   "cell_type": "code",
   "execution_count": 34,
   "metadata": {},
   "outputs": [],
   "source": [
    "names(cancerdf) <- c('id','Clump Thickness','Uniformity of Cell Size','Uniformity of Cell Shape',' Marginal Adhesion ',\n",
    "                     'Single Epithelial Cell Size','Bare Nuclei','Bland Chromatin','Normal Nucleoli','Mitoses','Class')"
   ]
  },
  {
   "cell_type": "code",
   "execution_count": 35,
   "metadata": {},
   "outputs": [
    {
     "data": {
      "text/html": [
       "<table>\n",
       "<caption>A data.frame: 6 × 11</caption>\n",
       "<thead>\n",
       "\t<tr><th></th><th scope=col>id</th><th scope=col>Clump Thickness</th><th scope=col>Uniformity of Cell Size</th><th scope=col>Uniformity of Cell Shape</th><th scope=col> Marginal Adhesion </th><th scope=col>Single Epithelial Cell Size</th><th scope=col>Bare Nuclei</th><th scope=col>Bland Chromatin</th><th scope=col>Normal Nucleoli</th><th scope=col>Mitoses</th><th scope=col>Class</th></tr>\n",
       "\t<tr><th></th><th scope=col>&lt;int&gt;</th><th scope=col>&lt;int&gt;</th><th scope=col>&lt;int&gt;</th><th scope=col>&lt;int&gt;</th><th scope=col>&lt;int&gt;</th><th scope=col>&lt;int&gt;</th><th scope=col>&lt;chr&gt;</th><th scope=col>&lt;int&gt;</th><th scope=col>&lt;int&gt;</th><th scope=col>&lt;int&gt;</th><th scope=col>&lt;int&gt;</th></tr>\n",
       "</thead>\n",
       "<tbody>\n",
       "\t<tr><th scope=row>1</th><td>1002945</td><td>5</td><td> 4</td><td> 4</td><td>5</td><td>7</td><td>10</td><td>3</td><td>2</td><td>1</td><td>2</td></tr>\n",
       "\t<tr><th scope=row>2</th><td>1015425</td><td>3</td><td> 1</td><td> 1</td><td>1</td><td>2</td><td>2 </td><td>3</td><td>1</td><td>1</td><td>2</td></tr>\n",
       "\t<tr><th scope=row>3</th><td>1016277</td><td>6</td><td> 8</td><td> 8</td><td>1</td><td>3</td><td>4 </td><td>3</td><td>7</td><td>1</td><td>2</td></tr>\n",
       "\t<tr><th scope=row>4</th><td>1017023</td><td>4</td><td> 1</td><td> 1</td><td>3</td><td>2</td><td>1 </td><td>3</td><td>1</td><td>1</td><td>2</td></tr>\n",
       "\t<tr><th scope=row>5</th><td>1017122</td><td>8</td><td>10</td><td>10</td><td>8</td><td>7</td><td>10</td><td>9</td><td>7</td><td>1</td><td>4</td></tr>\n",
       "\t<tr><th scope=row>6</th><td>1018099</td><td>1</td><td> 1</td><td> 1</td><td>1</td><td>2</td><td>10</td><td>3</td><td>1</td><td>1</td><td>2</td></tr>\n",
       "</tbody>\n",
       "</table>\n"
      ],
      "text/latex": [
       "A data.frame: 6 × 11\n",
       "\\begin{tabular}{r|lllllllllll}\n",
       "  & id & Clump Thickness & Uniformity of Cell Size & Uniformity of Cell Shape &  Marginal Adhesion  & Single Epithelial Cell Size & Bare Nuclei & Bland Chromatin & Normal Nucleoli & Mitoses & Class\\\\\n",
       "  & <int> & <int> & <int> & <int> & <int> & <int> & <chr> & <int> & <int> & <int> & <int>\\\\\n",
       "\\hline\n",
       "\t1 & 1002945 & 5 &  4 &  4 & 5 & 7 & 10 & 3 & 2 & 1 & 2\\\\\n",
       "\t2 & 1015425 & 3 &  1 &  1 & 1 & 2 & 2  & 3 & 1 & 1 & 2\\\\\n",
       "\t3 & 1016277 & 6 &  8 &  8 & 1 & 3 & 4  & 3 & 7 & 1 & 2\\\\\n",
       "\t4 & 1017023 & 4 &  1 &  1 & 3 & 2 & 1  & 3 & 1 & 1 & 2\\\\\n",
       "\t5 & 1017122 & 8 & 10 & 10 & 8 & 7 & 10 & 9 & 7 & 1 & 4\\\\\n",
       "\t6 & 1018099 & 1 &  1 &  1 & 1 & 2 & 10 & 3 & 1 & 1 & 2\\\\\n",
       "\\end{tabular}\n"
      ],
      "text/markdown": [
       "\n",
       "A data.frame: 6 × 11\n",
       "\n",
       "| <!--/--> | id &lt;int&gt; | Clump Thickness &lt;int&gt; | Uniformity of Cell Size &lt;int&gt; | Uniformity of Cell Shape &lt;int&gt; |  Marginal Adhesion  &lt;int&gt; | Single Epithelial Cell Size &lt;int&gt; | Bare Nuclei &lt;chr&gt; | Bland Chromatin &lt;int&gt; | Normal Nucleoli &lt;int&gt; | Mitoses &lt;int&gt; | Class &lt;int&gt; |\n",
       "|---|---|---|---|---|---|---|---|---|---|---|---|\n",
       "| 1 | 1002945 | 5 |  4 |  4 | 5 | 7 | 10 | 3 | 2 | 1 | 2 |\n",
       "| 2 | 1015425 | 3 |  1 |  1 | 1 | 2 | 2  | 3 | 1 | 1 | 2 |\n",
       "| 3 | 1016277 | 6 |  8 |  8 | 1 | 3 | 4  | 3 | 7 | 1 | 2 |\n",
       "| 4 | 1017023 | 4 |  1 |  1 | 3 | 2 | 1  | 3 | 1 | 1 | 2 |\n",
       "| 5 | 1017122 | 8 | 10 | 10 | 8 | 7 | 10 | 9 | 7 | 1 | 4 |\n",
       "| 6 | 1018099 | 1 |  1 |  1 | 1 | 2 | 10 | 3 | 1 | 1 | 2 |\n",
       "\n"
      ],
      "text/plain": [
       "  id      Clump Thickness Uniformity of Cell Size Uniformity of Cell Shape\n",
       "1 1002945 5                4                       4                      \n",
       "2 1015425 3                1                       1                      \n",
       "3 1016277 6                8                       8                      \n",
       "4 1017023 4                1                       1                      \n",
       "5 1017122 8               10                      10                      \n",
       "6 1018099 1                1                       1                      \n",
       "   Marginal Adhesion  Single Epithelial Cell Size Bare Nuclei Bland Chromatin\n",
       "1 5                   7                           10          3              \n",
       "2 1                   2                           2           3              \n",
       "3 1                   3                           4           3              \n",
       "4 3                   2                           1           3              \n",
       "5 8                   7                           10          9              \n",
       "6 1                   2                           10          3              \n",
       "  Normal Nucleoli Mitoses Class\n",
       "1 2               1       2    \n",
       "2 1               1       2    \n",
       "3 7               1       2    \n",
       "4 1               1       2    \n",
       "5 7               1       4    \n",
       "6 1               1       2    "
      ]
     },
     "metadata": {},
     "output_type": "display_data"
    }
   ],
   "source": [
    "head(cancerdf)"
   ]
  },
  {
   "cell_type": "code",
   "execution_count": 36,
   "metadata": {},
   "outputs": [
    {
     "name": "stdout",
     "output_type": "stream",
     "text": [
      "'data.frame':\t698 obs. of  11 variables:\n",
      " $ id                         : int  1002945 1015425 1016277 1017023 1017122 1018099 1018561 1033078 1033078 1035283 ...\n",
      " $ Clump Thickness            : int  5 3 6 4 8 1 2 2 4 1 ...\n",
      " $ Uniformity of Cell Size    : int  4 1 8 1 10 1 1 1 2 1 ...\n",
      " $ Uniformity of Cell Shape   : int  4 1 8 1 10 1 2 1 1 1 ...\n",
      " $  Marginal Adhesion         : int  5 1 1 3 8 1 1 1 1 1 ...\n",
      " $ Single Epithelial Cell Size: int  7 2 3 2 7 2 2 2 2 1 ...\n",
      " $ Bare Nuclei                : chr  \"10\" \"2\" \"4\" \"1\" ...\n",
      " $ Bland Chromatin            : int  3 3 3 3 9 3 3 1 2 3 ...\n",
      " $ Normal Nucleoli            : int  2 1 7 1 7 1 1 1 1 1 ...\n",
      " $ Mitoses                    : int  1 1 1 1 1 1 1 5 1 1 ...\n",
      " $ Class                      : int  2 2 2 2 4 2 2 2 2 2 ...\n"
     ]
    }
   ],
   "source": [
    "str(cancerdf)"
   ]
  },
  {
   "cell_type": "code",
   "execution_count": 37,
   "metadata": {},
   "outputs": [],
   "source": [
    "cancerdf$id <- NULL"
   ]
  },
  {
   "cell_type": "code",
   "execution_count": 38,
   "metadata": {},
   "outputs": [
    {
     "name": "stdout",
     "output_type": "stream",
     "text": [
      "'data.frame':\t698 obs. of  10 variables:\n",
      " $ Clump Thickness            : int  5 3 6 4 8 1 2 2 4 1 ...\n",
      " $ Uniformity of Cell Size    : int  4 1 8 1 10 1 1 1 2 1 ...\n",
      " $ Uniformity of Cell Shape   : int  4 1 8 1 10 1 2 1 1 1 ...\n",
      " $  Marginal Adhesion         : int  5 1 1 3 8 1 1 1 1 1 ...\n",
      " $ Single Epithelial Cell Size: int  7 2 3 2 7 2 2 2 2 1 ...\n",
      " $ Bare Nuclei                : chr  \"10\" \"2\" \"4\" \"1\" ...\n",
      " $ Bland Chromatin            : int  3 3 3 3 9 3 3 1 2 3 ...\n",
      " $ Normal Nucleoli            : int  2 1 7 1 7 1 1 1 1 1 ...\n",
      " $ Mitoses                    : int  1 1 1 1 1 1 1 5 1 1 ...\n",
      " $ Class                      : int  2 2 2 2 4 2 2 2 2 2 ...\n"
     ]
    }
   ],
   "source": [
    "str(cancerdf)"
   ]
  },
  {
   "cell_type": "code",
   "execution_count": 39,
   "metadata": {},
   "outputs": [
    {
     "name": "stderr",
     "output_type": "stream",
     "text": [
      "Warning message in eval(expr, envir, enclos):\n",
      "\"NAs introduced by coercion\"\n"
     ]
    }
   ],
   "source": [
    "cancerdf$`Bare Nuclei` <- as.numeric(cancerdf$`Bare Nuclei`)"
   ]
  },
  {
   "cell_type": "code",
   "execution_count": 40,
   "metadata": {},
   "outputs": [
    {
     "name": "stdout",
     "output_type": "stream",
     "text": [
      "'data.frame':\t698 obs. of  10 variables:\n",
      " $ Clump Thickness            : int  5 3 6 4 8 1 2 2 4 1 ...\n",
      " $ Uniformity of Cell Size    : int  4 1 8 1 10 1 1 1 2 1 ...\n",
      " $ Uniformity of Cell Shape   : int  4 1 8 1 10 1 2 1 1 1 ...\n",
      " $  Marginal Adhesion         : int  5 1 1 3 8 1 1 1 1 1 ...\n",
      " $ Single Epithelial Cell Size: int  7 2 3 2 7 2 2 2 2 1 ...\n",
      " $ Bare Nuclei                : num  10 2 4 1 10 10 1 1 1 1 ...\n",
      " $ Bland Chromatin            : int  3 3 3 3 9 3 3 1 2 3 ...\n",
      " $ Normal Nucleoli            : int  2 1 7 1 7 1 1 1 1 1 ...\n",
      " $ Mitoses                    : int  1 1 1 1 1 1 1 5 1 1 ...\n",
      " $ Class                      : int  2 2 2 2 4 2 2 2 2 2 ...\n"
     ]
    }
   ],
   "source": [
    "str(cancerdf)"
   ]
  },
  {
   "cell_type": "code",
   "execution_count": 43,
   "metadata": {},
   "outputs": [],
   "source": [
    "#identify the rows without missing data\n",
    "\n",
    "cancerdf <- cancerdf[complete.cases(cancerdf),]"
   ]
  },
  {
   "cell_type": "code",
   "execution_count": 44,
   "metadata": {},
   "outputs": [
    {
     "name": "stdout",
     "output_type": "stream",
     "text": [
      "'data.frame':\t682 obs. of  10 variables:\n",
      " $ Clump Thickness            : int  5 3 6 4 8 1 2 2 4 1 ...\n",
      " $ Uniformity of Cell Size    : int  4 1 8 1 10 1 1 1 2 1 ...\n",
      " $ Uniformity of Cell Shape   : int  4 1 8 1 10 1 2 1 1 1 ...\n",
      " $  Marginal Adhesion         : int  5 1 1 3 8 1 1 1 1 1 ...\n",
      " $ Single Epithelial Cell Size: int  7 2 3 2 7 2 2 2 2 1 ...\n",
      " $ Bare Nuclei                : num  10 2 4 1 10 10 1 1 1 1 ...\n",
      " $ Bland Chromatin            : int  3 3 3 3 9 3 3 1 2 3 ...\n",
      " $ Normal Nucleoli            : int  2 1 7 1 7 1 1 1 1 1 ...\n",
      " $ Mitoses                    : int  1 1 1 1 1 1 1 5 1 1 ...\n",
      " $ Class                      : int  2 2 2 2 4 2 2 2 2 2 ...\n"
     ]
    }
   ],
   "source": [
    "str(cancerdf)"
   ]
  },
  {
   "cell_type": "code",
   "execution_count": 45,
   "metadata": {},
   "outputs": [],
   "source": [
    "cancerdf$Class <- factor(ifelse(cancerdf$Class == 2, \"benign\", \"malignant\"))"
   ]
  },
  {
   "cell_type": "code",
   "execution_count": 47,
   "metadata": {},
   "outputs": [
    {
     "data": {
      "text/html": [
       "<table>\n",
       "<caption>A data.frame: 6 × 10</caption>\n",
       "<thead>\n",
       "\t<tr><th></th><th scope=col>Clump Thickness</th><th scope=col>Uniformity of Cell Size</th><th scope=col>Uniformity of Cell Shape</th><th scope=col> Marginal Adhesion </th><th scope=col>Single Epithelial Cell Size</th><th scope=col>Bare Nuclei</th><th scope=col>Bland Chromatin</th><th scope=col>Normal Nucleoli</th><th scope=col>Mitoses</th><th scope=col>Class</th></tr>\n",
       "\t<tr><th></th><th scope=col>&lt;int&gt;</th><th scope=col>&lt;int&gt;</th><th scope=col>&lt;int&gt;</th><th scope=col>&lt;int&gt;</th><th scope=col>&lt;int&gt;</th><th scope=col>&lt;dbl&gt;</th><th scope=col>&lt;int&gt;</th><th scope=col>&lt;int&gt;</th><th scope=col>&lt;int&gt;</th><th scope=col>&lt;fct&gt;</th></tr>\n",
       "</thead>\n",
       "<tbody>\n",
       "\t<tr><th scope=row>1</th><td>5</td><td> 4</td><td> 4</td><td>5</td><td>7</td><td>10</td><td>3</td><td>2</td><td>1</td><td>benign   </td></tr>\n",
       "\t<tr><th scope=row>2</th><td>3</td><td> 1</td><td> 1</td><td>1</td><td>2</td><td> 2</td><td>3</td><td>1</td><td>1</td><td>benign   </td></tr>\n",
       "\t<tr><th scope=row>3</th><td>6</td><td> 8</td><td> 8</td><td>1</td><td>3</td><td> 4</td><td>3</td><td>7</td><td>1</td><td>benign   </td></tr>\n",
       "\t<tr><th scope=row>4</th><td>4</td><td> 1</td><td> 1</td><td>3</td><td>2</td><td> 1</td><td>3</td><td>1</td><td>1</td><td>benign   </td></tr>\n",
       "\t<tr><th scope=row>5</th><td>8</td><td>10</td><td>10</td><td>8</td><td>7</td><td>10</td><td>9</td><td>7</td><td>1</td><td>malignant</td></tr>\n",
       "\t<tr><th scope=row>6</th><td>1</td><td> 1</td><td> 1</td><td>1</td><td>2</td><td>10</td><td>3</td><td>1</td><td>1</td><td>benign   </td></tr>\n",
       "</tbody>\n",
       "</table>\n"
      ],
      "text/latex": [
       "A data.frame: 6 × 10\n",
       "\\begin{tabular}{r|llllllllll}\n",
       "  & Clump Thickness & Uniformity of Cell Size & Uniformity of Cell Shape &  Marginal Adhesion  & Single Epithelial Cell Size & Bare Nuclei & Bland Chromatin & Normal Nucleoli & Mitoses & Class\\\\\n",
       "  & <int> & <int> & <int> & <int> & <int> & <dbl> & <int> & <int> & <int> & <fct>\\\\\n",
       "\\hline\n",
       "\t1 & 5 &  4 &  4 & 5 & 7 & 10 & 3 & 2 & 1 & benign   \\\\\n",
       "\t2 & 3 &  1 &  1 & 1 & 2 &  2 & 3 & 1 & 1 & benign   \\\\\n",
       "\t3 & 6 &  8 &  8 & 1 & 3 &  4 & 3 & 7 & 1 & benign   \\\\\n",
       "\t4 & 4 &  1 &  1 & 3 & 2 &  1 & 3 & 1 & 1 & benign   \\\\\n",
       "\t5 & 8 & 10 & 10 & 8 & 7 & 10 & 9 & 7 & 1 & malignant\\\\\n",
       "\t6 & 1 &  1 &  1 & 1 & 2 & 10 & 3 & 1 & 1 & benign   \\\\\n",
       "\\end{tabular}\n"
      ],
      "text/markdown": [
       "\n",
       "A data.frame: 6 × 10\n",
       "\n",
       "| <!--/--> | Clump Thickness &lt;int&gt; | Uniformity of Cell Size &lt;int&gt; | Uniformity of Cell Shape &lt;int&gt; |  Marginal Adhesion  &lt;int&gt; | Single Epithelial Cell Size &lt;int&gt; | Bare Nuclei &lt;dbl&gt; | Bland Chromatin &lt;int&gt; | Normal Nucleoli &lt;int&gt; | Mitoses &lt;int&gt; | Class &lt;fct&gt; |\n",
       "|---|---|---|---|---|---|---|---|---|---|---|\n",
       "| 1 | 5 |  4 |  4 | 5 | 7 | 10 | 3 | 2 | 1 | benign    |\n",
       "| 2 | 3 |  1 |  1 | 1 | 2 |  2 | 3 | 1 | 1 | benign    |\n",
       "| 3 | 6 |  8 |  8 | 1 | 3 |  4 | 3 | 7 | 1 | benign    |\n",
       "| 4 | 4 |  1 |  1 | 3 | 2 |  1 | 3 | 1 | 1 | benign    |\n",
       "| 5 | 8 | 10 | 10 | 8 | 7 | 10 | 9 | 7 | 1 | malignant |\n",
       "| 6 | 1 |  1 |  1 | 1 | 2 | 10 | 3 | 1 | 1 | benign    |\n",
       "\n"
      ],
      "text/plain": [
       "  Clump Thickness Uniformity of Cell Size Uniformity of Cell Shape\n",
       "1 5                4                       4                      \n",
       "2 3                1                       1                      \n",
       "3 6                8                       8                      \n",
       "4 4                1                       1                      \n",
       "5 8               10                      10                      \n",
       "6 1                1                       1                      \n",
       "   Marginal Adhesion  Single Epithelial Cell Size Bare Nuclei Bland Chromatin\n",
       "1 5                   7                           10          3              \n",
       "2 1                   2                            2          3              \n",
       "3 1                   3                            4          3              \n",
       "4 3                   2                            1          3              \n",
       "5 8                   7                           10          9              \n",
       "6 1                   2                           10          3              \n",
       "  Normal Nucleoli Mitoses Class    \n",
       "1 2               1       benign   \n",
       "2 1               1       benign   \n",
       "3 7               1       benign   \n",
       "4 1               1       benign   \n",
       "5 7               1       malignant\n",
       "6 1               1       benign   "
      ]
     },
     "metadata": {},
     "output_type": "display_data"
    }
   ],
   "source": [
    "head(cancerdf)"
   ]
  },
  {
   "cell_type": "code",
   "execution_count": 52,
   "metadata": {},
   "outputs": [],
   "source": [
    "# this is Data Splicing in very simple format\n",
    "\n",
    "trainingSet = cancerdf[1:500, 1:9]\n",
    "testSet = cancerdf[501:682, 1:9]"
   ]
  },
  {
   "cell_type": "code",
   "execution_count": 53,
   "metadata": {},
   "outputs": [],
   "source": [
    "# split the diagnosis into training and test outcomes sets\n",
    "\n",
    "trainingOutcomes <- cancerdf[1:500, 10]\n",
    "testOutcomes <- cancerdf[501:682, 10]"
   ]
  },
  {
   "cell_type": "code",
   "execution_count": 56,
   "metadata": {},
   "outputs": [
    {
     "data": {
      "text/html": [
       "22.3606797749979"
      ],
      "text/latex": [
       "22.3606797749979"
      ],
      "text/markdown": [
       "22.3606797749979"
      ],
      "text/plain": [
       "[1] 22.36068"
      ]
     },
     "metadata": {},
     "output_type": "display_data"
    }
   ],
   "source": [
    "sqrt(500)"
   ]
  },
  {
   "cell_type": "code",
   "execution_count": 57,
   "metadata": {},
   "outputs": [],
   "source": [
    "library(class)"
   ]
  },
  {
   "cell_type": "code",
   "execution_count": 58,
   "metadata": {},
   "outputs": [],
   "source": [
    "predictions <- knn(train = trainingSet, cl = trainingOutcomes, k = 22, test = testSet)"
   ]
  },
  {
   "cell_type": "code",
   "execution_count": 59,
   "metadata": {},
   "outputs": [
    {
     "data": {
      "text/html": [
       "<style>\n",
       ".list-inline {list-style: none; margin:0; padding: 0}\n",
       ".list-inline>li {display: inline-block}\n",
       ".list-inline>li:not(:last-child)::after {content: \"\\00b7\"; padding: 0 .5ex}\n",
       "</style>\n",
       "<ol class=list-inline><li>benign</li><li>benign</li><li>benign</li><li>malignant</li><li>benign</li><li>benign</li><li>malignant</li><li>malignant</li><li>benign</li><li>benign</li><li>benign</li><li>benign</li><li>benign</li><li>benign</li><li>malignant</li><li>benign</li><li>benign</li><li>benign</li><li>benign</li><li>benign</li><li>benign</li><li>benign</li><li>benign</li><li>benign</li><li>benign</li><li>benign</li><li>benign</li><li>benign</li><li>benign</li><li>benign</li><li>malignant</li><li>benign</li><li>benign</li><li>malignant</li><li>benign</li><li>benign</li><li>benign</li><li>benign</li><li>benign</li><li>benign</li><li>benign</li><li>benign</li><li>benign</li><li>benign</li><li>benign</li><li>benign</li><li>benign</li><li>benign</li><li>benign</li><li>malignant</li><li>benign</li><li>benign</li><li>malignant</li><li>malignant</li><li>malignant</li><li>malignant</li><li>benign</li><li>benign</li><li>malignant</li><li>benign</li><li>benign</li><li>benign</li><li>benign</li><li>benign</li><li>benign</li><li>malignant</li><li>malignant</li><li>benign</li><li>benign</li><li>benign</li><li>malignant</li><li>benign</li><li>malignant</li><li>benign</li><li>malignant</li><li>malignant</li><li>malignant</li><li>benign</li><li>malignant</li><li>benign</li><li>benign</li><li>benign</li><li>benign</li><li>benign</li><li>benign</li><li>benign</li><li>benign</li><li>malignant</li><li>malignant</li><li>malignant</li><li>benign</li><li>benign</li><li>malignant</li><li>benign</li><li>malignant</li><li>malignant</li><li>malignant</li><li>benign</li><li>benign</li><li>benign</li><li>benign</li><li>benign</li><li>benign</li><li>benign</li><li>benign</li><li>benign</li><li>benign</li><li>benign</li><li>benign</li><li>malignant</li><li>benign</li><li>benign</li><li>benign</li><li>benign</li><li>benign</li><li>benign</li><li>malignant</li><li>benign</li><li>benign</li><li>malignant</li><li>benign</li><li>benign</li><li>benign</li><li>benign</li><li>benign</li><li>benign</li><li>benign</li><li>benign</li><li>benign</li><li>benign</li><li>benign</li><li>malignant</li><li>benign</li><li>benign</li><li>benign</li><li>benign</li><li>benign</li><li>benign</li><li>benign</li><li>benign</li><li>benign</li><li>malignant</li><li>benign</li><li>benign</li><li>benign</li><li>benign</li><li>benign</li><li>benign</li><li>benign</li><li>benign</li><li>benign</li><li>malignant</li><li>malignant</li><li>malignant</li><li>benign</li><li>benign</li><li>benign</li><li>benign</li><li>benign</li><li>benign</li><li>benign</li><li>benign</li><li>benign</li><li>malignant</li><li>malignant</li><li>benign</li><li>benign</li><li>benign</li><li>benign</li><li>benign</li><li>benign</li><li>benign</li><li>benign</li><li>benign</li><li>malignant</li><li>benign</li><li>benign</li><li>benign</li><li>benign</li><li>malignant</li><li>malignant</li><li>malignant</li></ol>\n",
       "\n",
       "<details>\n",
       "\t<summary style=display:list-item;cursor:pointer>\n",
       "\t\t<strong>Levels</strong>:\n",
       "\t</summary>\n",
       "\t<style>\n",
       "\t.list-inline {list-style: none; margin:0; padding: 0}\n",
       "\t.list-inline>li {display: inline-block}\n",
       "\t.list-inline>li:not(:last-child)::after {content: \"\\00b7\"; padding: 0 .5ex}\n",
       "\t</style>\n",
       "\t<ol class=list-inline><li>'benign'</li><li>'malignant'</li></ol>\n",
       "</details>"
      ],
      "text/latex": [
       "\\begin{enumerate*}\n",
       "\\item benign\n",
       "\\item benign\n",
       "\\item benign\n",
       "\\item malignant\n",
       "\\item benign\n",
       "\\item benign\n",
       "\\item malignant\n",
       "\\item malignant\n",
       "\\item benign\n",
       "\\item benign\n",
       "\\item benign\n",
       "\\item benign\n",
       "\\item benign\n",
       "\\item benign\n",
       "\\item malignant\n",
       "\\item benign\n",
       "\\item benign\n",
       "\\item benign\n",
       "\\item benign\n",
       "\\item benign\n",
       "\\item benign\n",
       "\\item benign\n",
       "\\item benign\n",
       "\\item benign\n",
       "\\item benign\n",
       "\\item benign\n",
       "\\item benign\n",
       "\\item benign\n",
       "\\item benign\n",
       "\\item benign\n",
       "\\item malignant\n",
       "\\item benign\n",
       "\\item benign\n",
       "\\item malignant\n",
       "\\item benign\n",
       "\\item benign\n",
       "\\item benign\n",
       "\\item benign\n",
       "\\item benign\n",
       "\\item benign\n",
       "\\item benign\n",
       "\\item benign\n",
       "\\item benign\n",
       "\\item benign\n",
       "\\item benign\n",
       "\\item benign\n",
       "\\item benign\n",
       "\\item benign\n",
       "\\item benign\n",
       "\\item malignant\n",
       "\\item benign\n",
       "\\item benign\n",
       "\\item malignant\n",
       "\\item malignant\n",
       "\\item malignant\n",
       "\\item malignant\n",
       "\\item benign\n",
       "\\item benign\n",
       "\\item malignant\n",
       "\\item benign\n",
       "\\item benign\n",
       "\\item benign\n",
       "\\item benign\n",
       "\\item benign\n",
       "\\item benign\n",
       "\\item malignant\n",
       "\\item malignant\n",
       "\\item benign\n",
       "\\item benign\n",
       "\\item benign\n",
       "\\item malignant\n",
       "\\item benign\n",
       "\\item malignant\n",
       "\\item benign\n",
       "\\item malignant\n",
       "\\item malignant\n",
       "\\item malignant\n",
       "\\item benign\n",
       "\\item malignant\n",
       "\\item benign\n",
       "\\item benign\n",
       "\\item benign\n",
       "\\item benign\n",
       "\\item benign\n",
       "\\item benign\n",
       "\\item benign\n",
       "\\item benign\n",
       "\\item malignant\n",
       "\\item malignant\n",
       "\\item malignant\n",
       "\\item benign\n",
       "\\item benign\n",
       "\\item malignant\n",
       "\\item benign\n",
       "\\item malignant\n",
       "\\item malignant\n",
       "\\item malignant\n",
       "\\item benign\n",
       "\\item benign\n",
       "\\item benign\n",
       "\\item benign\n",
       "\\item benign\n",
       "\\item benign\n",
       "\\item benign\n",
       "\\item benign\n",
       "\\item benign\n",
       "\\item benign\n",
       "\\item benign\n",
       "\\item benign\n",
       "\\item malignant\n",
       "\\item benign\n",
       "\\item benign\n",
       "\\item benign\n",
       "\\item benign\n",
       "\\item benign\n",
       "\\item benign\n",
       "\\item malignant\n",
       "\\item benign\n",
       "\\item benign\n",
       "\\item malignant\n",
       "\\item benign\n",
       "\\item benign\n",
       "\\item benign\n",
       "\\item benign\n",
       "\\item benign\n",
       "\\item benign\n",
       "\\item benign\n",
       "\\item benign\n",
       "\\item benign\n",
       "\\item benign\n",
       "\\item benign\n",
       "\\item malignant\n",
       "\\item benign\n",
       "\\item benign\n",
       "\\item benign\n",
       "\\item benign\n",
       "\\item benign\n",
       "\\item benign\n",
       "\\item benign\n",
       "\\item benign\n",
       "\\item benign\n",
       "\\item malignant\n",
       "\\item benign\n",
       "\\item benign\n",
       "\\item benign\n",
       "\\item benign\n",
       "\\item benign\n",
       "\\item benign\n",
       "\\item benign\n",
       "\\item benign\n",
       "\\item benign\n",
       "\\item malignant\n",
       "\\item malignant\n",
       "\\item malignant\n",
       "\\item benign\n",
       "\\item benign\n",
       "\\item benign\n",
       "\\item benign\n",
       "\\item benign\n",
       "\\item benign\n",
       "\\item benign\n",
       "\\item benign\n",
       "\\item benign\n",
       "\\item malignant\n",
       "\\item malignant\n",
       "\\item benign\n",
       "\\item benign\n",
       "\\item benign\n",
       "\\item benign\n",
       "\\item benign\n",
       "\\item benign\n",
       "\\item benign\n",
       "\\item benign\n",
       "\\item benign\n",
       "\\item malignant\n",
       "\\item benign\n",
       "\\item benign\n",
       "\\item benign\n",
       "\\item benign\n",
       "\\item malignant\n",
       "\\item malignant\n",
       "\\item malignant\n",
       "\\end{enumerate*}\n",
       "\n",
       "\\emph{Levels}: \\begin{enumerate*}\n",
       "\\item 'benign'\n",
       "\\item 'malignant'\n",
       "\\end{enumerate*}\n"
      ],
      "text/markdown": [
       "1. benign\n",
       "2. benign\n",
       "3. benign\n",
       "4. malignant\n",
       "5. benign\n",
       "6. benign\n",
       "7. malignant\n",
       "8. malignant\n",
       "9. benign\n",
       "10. benign\n",
       "11. benign\n",
       "12. benign\n",
       "13. benign\n",
       "14. benign\n",
       "15. malignant\n",
       "16. benign\n",
       "17. benign\n",
       "18. benign\n",
       "19. benign\n",
       "20. benign\n",
       "21. benign\n",
       "22. benign\n",
       "23. benign\n",
       "24. benign\n",
       "25. benign\n",
       "26. benign\n",
       "27. benign\n",
       "28. benign\n",
       "29. benign\n",
       "30. benign\n",
       "31. malignant\n",
       "32. benign\n",
       "33. benign\n",
       "34. malignant\n",
       "35. benign\n",
       "36. benign\n",
       "37. benign\n",
       "38. benign\n",
       "39. benign\n",
       "40. benign\n",
       "41. benign\n",
       "42. benign\n",
       "43. benign\n",
       "44. benign\n",
       "45. benign\n",
       "46. benign\n",
       "47. benign\n",
       "48. benign\n",
       "49. benign\n",
       "50. malignant\n",
       "51. benign\n",
       "52. benign\n",
       "53. malignant\n",
       "54. malignant\n",
       "55. malignant\n",
       "56. malignant\n",
       "57. benign\n",
       "58. benign\n",
       "59. malignant\n",
       "60. benign\n",
       "61. benign\n",
       "62. benign\n",
       "63. benign\n",
       "64. benign\n",
       "65. benign\n",
       "66. malignant\n",
       "67. malignant\n",
       "68. benign\n",
       "69. benign\n",
       "70. benign\n",
       "71. malignant\n",
       "72. benign\n",
       "73. malignant\n",
       "74. benign\n",
       "75. malignant\n",
       "76. malignant\n",
       "77. malignant\n",
       "78. benign\n",
       "79. malignant\n",
       "80. benign\n",
       "81. benign\n",
       "82. benign\n",
       "83. benign\n",
       "84. benign\n",
       "85. benign\n",
       "86. benign\n",
       "87. benign\n",
       "88. malignant\n",
       "89. malignant\n",
       "90. malignant\n",
       "91. benign\n",
       "92. benign\n",
       "93. malignant\n",
       "94. benign\n",
       "95. malignant\n",
       "96. malignant\n",
       "97. malignant\n",
       "98. benign\n",
       "99. benign\n",
       "100. benign\n",
       "101. benign\n",
       "102. benign\n",
       "103. benign\n",
       "104. benign\n",
       "105. benign\n",
       "106. benign\n",
       "107. benign\n",
       "108. benign\n",
       "109. benign\n",
       "110. malignant\n",
       "111. benign\n",
       "112. benign\n",
       "113. benign\n",
       "114. benign\n",
       "115. benign\n",
       "116. benign\n",
       "117. malignant\n",
       "118. benign\n",
       "119. benign\n",
       "120. malignant\n",
       "121. benign\n",
       "122. benign\n",
       "123. benign\n",
       "124. benign\n",
       "125. benign\n",
       "126. benign\n",
       "127. benign\n",
       "128. benign\n",
       "129. benign\n",
       "130. benign\n",
       "131. benign\n",
       "132. malignant\n",
       "133. benign\n",
       "134. benign\n",
       "135. benign\n",
       "136. benign\n",
       "137. benign\n",
       "138. benign\n",
       "139. benign\n",
       "140. benign\n",
       "141. benign\n",
       "142. malignant\n",
       "143. benign\n",
       "144. benign\n",
       "145. benign\n",
       "146. benign\n",
       "147. benign\n",
       "148. benign\n",
       "149. benign\n",
       "150. benign\n",
       "151. benign\n",
       "152. malignant\n",
       "153. malignant\n",
       "154. malignant\n",
       "155. benign\n",
       "156. benign\n",
       "157. benign\n",
       "158. benign\n",
       "159. benign\n",
       "160. benign\n",
       "161. benign\n",
       "162. benign\n",
       "163. benign\n",
       "164. malignant\n",
       "165. malignant\n",
       "166. benign\n",
       "167. benign\n",
       "168. benign\n",
       "169. benign\n",
       "170. benign\n",
       "171. benign\n",
       "172. benign\n",
       "173. benign\n",
       "174. benign\n",
       "175. malignant\n",
       "176. benign\n",
       "177. benign\n",
       "178. benign\n",
       "179. benign\n",
       "180. malignant\n",
       "181. malignant\n",
       "182. malignant\n",
       "\n",
       "\n",
       "\n",
       "**Levels**: 1. 'benign'\n",
       "2. 'malignant'\n",
       "\n",
       "\n"
      ],
      "text/plain": [
       "  [1] benign    benign    benign    malignant benign    benign    malignant\n",
       "  [8] malignant benign    benign    benign    benign    benign    benign   \n",
       " [15] malignant benign    benign    benign    benign    benign    benign   \n",
       " [22] benign    benign    benign    benign    benign    benign    benign   \n",
       " [29] benign    benign    malignant benign    benign    malignant benign   \n",
       " [36] benign    benign    benign    benign    benign    benign    benign   \n",
       " [43] benign    benign    benign    benign    benign    benign    benign   \n",
       " [50] malignant benign    benign    malignant malignant malignant malignant\n",
       " [57] benign    benign    malignant benign    benign    benign    benign   \n",
       " [64] benign    benign    malignant malignant benign    benign    benign   \n",
       " [71] malignant benign    malignant benign    malignant malignant malignant\n",
       " [78] benign    malignant benign    benign    benign    benign    benign   \n",
       " [85] benign    benign    benign    malignant malignant malignant benign   \n",
       " [92] benign    malignant benign    malignant malignant malignant benign   \n",
       " [99] benign    benign    benign    benign    benign    benign    benign   \n",
       "[106] benign    benign    benign    benign    malignant benign    benign   \n",
       "[113] benign    benign    benign    benign    malignant benign    benign   \n",
       "[120] malignant benign    benign    benign    benign    benign    benign   \n",
       "[127] benign    benign    benign    benign    benign    malignant benign   \n",
       "[134] benign    benign    benign    benign    benign    benign    benign   \n",
       "[141] benign    malignant benign    benign    benign    benign    benign   \n",
       "[148] benign    benign    benign    benign    malignant malignant malignant\n",
       "[155] benign    benign    benign    benign    benign    benign    benign   \n",
       "[162] benign    benign    malignant malignant benign    benign    benign   \n",
       "[169] benign    benign    benign    benign    benign    benign    malignant\n",
       "[176] benign    benign    benign    benign    malignant malignant malignant\n",
       "Levels: benign malignant"
      ]
     },
     "metadata": {},
     "output_type": "display_data"
    }
   ],
   "source": [
    "predictions"
   ]
  },
  {
   "cell_type": "code",
   "execution_count": 61,
   "metadata": {},
   "outputs": [
    {
     "data": {
      "text/plain": [
       "            predictions\n",
       "testOutcomes benign malignant\n",
       "   benign       141         0\n",
       "   malignant      0        41"
      ]
     },
     "metadata": {},
     "output_type": "display_data"
    }
   ],
   "source": [
    "table(testOutcomes, predictions)"
   ]
  },
  {
   "cell_type": "code",
   "execution_count": 62,
   "metadata": {},
   "outputs": [
    {
     "data": {
      "text/html": [
       "<table>\n",
       "<caption>A data.frame: 6 × 2</caption>\n",
       "<thead>\n",
       "\t<tr><th></th><th scope=col>actuals</th><th scope=col>predicted</th></tr>\n",
       "\t<tr><th></th><th scope=col>&lt;int&gt;</th><th scope=col>&lt;int&gt;</th></tr>\n",
       "</thead>\n",
       "<tbody>\n",
       "\t<tr><th scope=row>1</th><td>1</td><td>1</td></tr>\n",
       "\t<tr><th scope=row>2</th><td>1</td><td>1</td></tr>\n",
       "\t<tr><th scope=row>3</th><td>1</td><td>1</td></tr>\n",
       "\t<tr><th scope=row>4</th><td>2</td><td>2</td></tr>\n",
       "\t<tr><th scope=row>5</th><td>1</td><td>1</td></tr>\n",
       "\t<tr><th scope=row>6</th><td>1</td><td>1</td></tr>\n",
       "</tbody>\n",
       "</table>\n"
      ],
      "text/latex": [
       "A data.frame: 6 × 2\n",
       "\\begin{tabular}{r|ll}\n",
       "  & actuals & predicted\\\\\n",
       "  & <int> & <int>\\\\\n",
       "\\hline\n",
       "\t1 & 1 & 1\\\\\n",
       "\t2 & 1 & 1\\\\\n",
       "\t3 & 1 & 1\\\\\n",
       "\t4 & 2 & 2\\\\\n",
       "\t5 & 1 & 1\\\\\n",
       "\t6 & 1 & 1\\\\\n",
       "\\end{tabular}\n"
      ],
      "text/markdown": [
       "\n",
       "A data.frame: 6 × 2\n",
       "\n",
       "| <!--/--> | actuals &lt;int&gt; | predicted &lt;int&gt; |\n",
       "|---|---|---|\n",
       "| 1 | 1 | 1 |\n",
       "| 2 | 1 | 1 |\n",
       "| 3 | 1 | 1 |\n",
       "| 4 | 2 | 2 |\n",
       "| 5 | 1 | 1 |\n",
       "| 6 | 1 | 1 |\n",
       "\n"
      ],
      "text/plain": [
       "  actuals predicted\n",
       "1 1       1        \n",
       "2 1       1        \n",
       "3 1       1        \n",
       "4 2       2        \n",
       "5 1       1        \n",
       "6 1       1        "
      ]
     },
     "metadata": {},
     "output_type": "display_data"
    }
   ],
   "source": [
    "actual_preds <- data.frame(cbind(actuals = testOutcomes, predicted = predictions))\n",
    "correlation_accuracy <- cor(actual_preds)\n",
    "head(actual_preds)"
   ]
  },
  {
   "cell_type": "code",
   "execution_count": 63,
   "metadata": {},
   "outputs": [
    {
     "data": {
      "text/html": [
       "<table>\n",
       "<caption>A matrix: 2 × 2 of type dbl</caption>\n",
       "<thead>\n",
       "\t<tr><th></th><th scope=col>actuals</th><th scope=col>predicted</th></tr>\n",
       "</thead>\n",
       "<tbody>\n",
       "\t<tr><th scope=row>actuals</th><td>1</td><td>1</td></tr>\n",
       "\t<tr><th scope=row>predicted</th><td>1</td><td>1</td></tr>\n",
       "</tbody>\n",
       "</table>\n"
      ],
      "text/latex": [
       "A matrix: 2 × 2 of type dbl\n",
       "\\begin{tabular}{r|ll}\n",
       "  & actuals & predicted\\\\\n",
       "\\hline\n",
       "\tactuals & 1 & 1\\\\\n",
       "\tpredicted & 1 & 1\\\\\n",
       "\\end{tabular}\n"
      ],
      "text/markdown": [
       "\n",
       "A matrix: 2 × 2 of type dbl\n",
       "\n",
       "| <!--/--> | actuals | predicted |\n",
       "|---|---|---|\n",
       "| actuals | 1 | 1 |\n",
       "| predicted | 1 | 1 |\n",
       "\n"
      ],
      "text/plain": [
       "          actuals predicted\n",
       "actuals   1       1        \n",
       "predicted 1       1        "
      ]
     },
     "metadata": {},
     "output_type": "display_data"
    }
   ],
   "source": [
    "correlation_accuracy"
   ]
  },
  {
   "cell_type": "markdown",
   "metadata": {},
   "source": [
    "## Accuracy of the model is 100%"
   ]
  },
  {
   "cell_type": "code",
   "execution_count": null,
   "metadata": {},
   "outputs": [],
   "source": []
  }
 ],
 "metadata": {
  "kernelspec": {
   "display_name": "R",
   "language": "R",
   "name": "ir"
  },
  "language_info": {
   "codemirror_mode": "r",
   "file_extension": ".r",
   "mimetype": "text/x-r-source",
   "name": "R",
   "pygments_lexer": "r",
   "version": "3.6.1"
  }
 },
 "nbformat": 4,
 "nbformat_minor": 4
}
